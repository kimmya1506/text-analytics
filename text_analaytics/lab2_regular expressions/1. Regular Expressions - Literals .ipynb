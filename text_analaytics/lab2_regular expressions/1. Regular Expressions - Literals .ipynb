{
 "cells": [
  {
   "cell_type": "code",
   "execution_count": 1,
   "id": "2deb3878",
   "metadata": {},
   "outputs": [],
   "source": [
    "import re"
   ]
  },
  {
   "cell_type": "code",
   "execution_count": 2,
   "id": "c0b34f9d",
   "metadata": {},
   "outputs": [
    {
     "name": "stdout",
     "output_type": "stream",
     "text": [
      "<re.Match object; span=(0, 1), match='I'>\n"
     ]
    }
   ],
   "source": [
    "sentence1 = re.match (r'I', 'I am learning text analytics')\n",
    "print (sentence1)"
   ]
  },
  {
   "cell_type": "code",
   "execution_count": 3,
   "id": "b1d7e7b8",
   "metadata": {},
   "outputs": [
    {
     "name": "stdout",
     "output_type": "stream",
     "text": [
      "None\n"
     ]
    }
   ],
   "source": [
    "sentence2 = re.match (r'v', 'I am learning text analytics')\n",
    "print (sentence2)"
   ]
  },
  {
   "cell_type": "code",
   "execution_count": 4,
   "id": "ff630457",
   "metadata": {},
   "outputs": [
    {
     "name": "stdout",
     "output_type": "stream",
     "text": [
      "<re.Match object; span=(0, 1), match='v'>\n"
     ]
    }
   ],
   "source": [
    "sentence3 = re.match (r'v', 'v am learning text analytics')\n",
    "print (sentence3)"
   ]
  },
  {
   "cell_type": "code",
   "execution_count": 5,
   "id": "1d12cad9",
   "metadata": {},
   "outputs": [
    {
     "name": "stdout",
     "output_type": "stream",
     "text": [
      "None\n"
     ]
    }
   ],
   "source": [
    "sentence4 = re.match (r'am', 'I am learning text analytics')\n",
    "print (sentence4)"
   ]
  },
  {
   "cell_type": "code",
   "execution_count": 6,
   "id": "d76cd454",
   "metadata": {},
   "outputs": [
    {
     "name": "stdout",
     "output_type": "stream",
     "text": [
      "<re.Match object; span=(2, 4), match='am'>\n"
     ]
    }
   ],
   "source": [
    "sentence5 = re.search (r'am', 'I am learning text analytics')\n",
    "print (sentence5)"
   ]
  },
  {
   "cell_type": "code",
   "execution_count": 7,
   "id": "1c21ed54",
   "metadata": {},
   "outputs": [
    {
     "name": "stdout",
     "output_type": "stream",
     "text": [
      "<re.Match object; span=(2, 4), match='am'>\n"
     ]
    }
   ],
   "source": [
    "sentence6 = re.search (r'am', 'I am learning text analytics and am enjoying it')\n",
    "print (sentence6)"
   ]
  },
  {
   "cell_type": "code",
   "execution_count": 8,
   "id": "9242df1f",
   "metadata": {},
   "outputs": [
    {
     "name": "stdout",
     "output_type": "stream",
     "text": [
      "['am', 'am']\n"
     ]
    }
   ],
   "source": [
    "sentence7 = re.findall(r'am', 'I am learning text analytics and am enjoying it')\n",
    "print (sentence7)"
   ]
  },
  {
   "cell_type": "code",
   "execution_count": 9,
   "id": "03763446",
   "metadata": {},
   "outputs": [
    {
     "name": "stdout",
     "output_type": "stream",
     "text": [
      "['I am learning text analytics ', ' am enjoying it']\n"
     ]
    }
   ],
   "source": [
    "sentence8 = re.split(r'and', 'I am learning text analytics and am enjoying it')\n",
    "print (sentence8)"
   ]
  },
  {
   "cell_type": "code",
   "execution_count": 10,
   "id": "d446e3b8",
   "metadata": {},
   "outputs": [
    {
     "name": "stdout",
     "output_type": "stream",
     "text": [
      "['I ', ' learning text analytics and ', ' enjoying it']\n"
     ]
    }
   ],
   "source": [
    "sentence9 = re.split(r'am', 'I am learning text analytics and am enjoying it')\n",
    "print (sentence9)"
   ]
  },
  {
   "cell_type": "code",
   "execution_count": 11,
   "id": "ca6fb059",
   "metadata": {},
   "outputs": [
    {
     "name": "stdout",
     "output_type": "stream",
     "text": [
      "['I ', ' learning text analytics and am enjoying it']\n"
     ]
    }
   ],
   "source": [
    "sentence10 = re.split(r'am', 'I am learning text analytics and am enjoying it', maxsplit=1)\n",
    "print (sentence10)"
   ]
  },
  {
   "cell_type": "code",
   "execution_count": 13,
   "id": "c0db0c11",
   "metadata": {},
   "outputs": [
    {
     "name": "stdout",
     "output_type": "stream",
     "text": [
      "['I ', ' learning text analytics, I ', ' enjoying it and I ', ' going to ace it']\n"
     ]
    }
   ],
   "source": [
    "sentence11 = re.split(r'am', 'I am learning text analytics, I am enjoying it and I am going to ace it', maxsplit=3)\n",
    "print (sentence11)"
   ]
  },
  {
   "cell_type": "code",
   "execution_count": 16,
   "id": "db75cae3",
   "metadata": {},
   "outputs": [
    {
     "name": "stdout",
     "output_type": "stream",
     "text": [
      "we like text analytics and we enjoy learning it\n"
     ]
    }
   ],
   "source": [
    "sentence11 = re.sub(r'I', 'we', 'I like text analytics and I enjoy learning it')\n",
    "print (sentence11)"
   ]
  }
 ],
 "metadata": {
  "kernelspec": {
   "display_name": "Python 3 (ipykernel)",
   "language": "python",
   "name": "python3"
  },
  "language_info": {
   "codemirror_mode": {
    "name": "ipython",
    "version": 3
   },
   "file_extension": ".py",
   "mimetype": "text/x-python",
   "name": "python",
   "nbconvert_exporter": "python",
   "pygments_lexer": "ipython3",
   "version": "3.11.5"
  }
 },
 "nbformat": 4,
 "nbformat_minor": 5
}
