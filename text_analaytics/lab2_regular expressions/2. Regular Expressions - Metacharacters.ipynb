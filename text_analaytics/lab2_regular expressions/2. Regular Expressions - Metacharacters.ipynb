{
 "cells": [
  {
   "cell_type": "code",
   "execution_count": 1,
   "id": "58957bb6",
   "metadata": {},
   "outputs": [],
   "source": [
    "import re"
   ]
  },
  {
   "cell_type": "code",
   "execution_count": 2,
   "id": "ca9fdec2",
   "metadata": {},
   "outputs": [
    {
     "name": "stdout",
     "output_type": "stream",
     "text": [
      "['I', ' ', 'a', 'm', ' ', 'l', 'e', 'a', 'r', 'n', 'i', 'n', 'g', ' ', 't', 'e', 'x', 't', ' ', 'a', 'n', 'a', 'l', 'y', 't', 'i', 'c', 's']\n"
     ]
    }
   ],
   "source": [
    "sentence1 = re.findall (r'.', 'I am learning text analytics')\n",
    "print (sentence1)"
   ]
  },
  {
   "cell_type": "code",
   "execution_count": 3,
   "id": "48b49819",
   "metadata": {},
   "outputs": [
    {
     "name": "stdout",
     "output_type": "stream",
     "text": [
      "['I', 'a', 'm', 'l', 'e', 'a', 'r', 'n', 'i', 'n', 'g', 'i', 't', 't', 'e', 'x', 't', 'a', 'n', 'a', 'l', 'y', 't', 'i', 'c', 's']\n"
     ]
    }
   ],
   "source": [
    "sentence2 = re.findall (r'\\w', 'I am learning it text analytics')\n",
    "print (sentence2)"
   ]
  },
  {
   "cell_type": "code",
   "execution_count": 4,
   "id": "947c4732",
   "metadata": {},
   "outputs": [
    {
     "name": "stdout",
     "output_type": "stream",
     "text": [
      "['I', '', 'am', '', 'learning', '', 'text', '', 'analytics', '']\n"
     ]
    }
   ],
   "source": [
    "sentence3 = re.findall (r'\\w*', 'I am learning text analytics')\n",
    "print (sentence3)"
   ]
  },
  {
   "cell_type": "code",
   "execution_count": 5,
   "id": "1c510fa4",
   "metadata": {},
   "outputs": [
    {
     "name": "stdout",
     "output_type": "stream",
     "text": [
      "['I', 'am', 'learning', 'text', 'analytics']\n"
     ]
    }
   ],
   "source": [
    "sentence4 = re.findall (r'\\w+', 'I am learning text analytics')\n",
    "print (sentence4)"
   ]
  },
  {
   "cell_type": "code",
   "execution_count": 6,
   "id": "4aa37ba2",
   "metadata": {},
   "outputs": [
    {
     "name": "stdout",
     "output_type": "stream",
     "text": [
      "['I']\n"
     ]
    }
   ],
   "source": [
    "sentence5 = re.findall (r'^\\w+', 'I am learning text analytics') \n",
    "print (sentence5) \n",
    " \n",
    "# First word is selected  "
   ]
  },
  {
   "cell_type": "code",
   "execution_count": 7,
   "id": "125cdf19",
   "metadata": {},
   "outputs": [
    {
     "name": "stdout",
     "output_type": "stream",
     "text": [
      "['analytics']\n"
     ]
    }
   ],
   "source": [
    "sentence6 = re.findall (r'\\w+$', 'I am learning text analytics') \n",
    "print (sentence6) \n",
    " \n",
    "# Last word is selected  "
   ]
  },
  {
   "cell_type": "code",
   "execution_count": 8,
   "id": "e9744dc7",
   "metadata": {},
   "outputs": [
    {
     "name": "stdout",
     "output_type": "stream",
     "text": [
      "['am', 'le', 'ar', 'ni', 'ng', 'te', 'xt', 'an', 'al', 'yt', 'ic']\n"
     ]
    }
   ],
   "source": [
    "sentence7 = re.findall (r'\\w\\w', 'I am learning text analytics') \n",
    "print (sentence7) \n",
    " \n",
    "# 2 consecutive characters are selected "
   ]
  },
  {
   "cell_type": "code",
   "execution_count": 9,
   "id": "4261195d",
   "metadata": {},
   "outputs": [
    {
     "name": "stdout",
     "output_type": "stream",
     "text": [
      "['am', 'le', 'te', 'an']\n"
     ]
    }
   ],
   "source": [
    "sentence8 = re.findall (r'\\b\\w\\w', 'I am learning text analytics') \n",
    "print (sentence8) \n",
    " \n",
    "# 2 consecutive characters in a string are selected "
   ]
  },
  {
   "cell_type": "code",
   "execution_count": 10,
   "id": "4c89acd8",
   "metadata": {},
   "outputs": [
    {
     "name": "stdout",
     "output_type": "stream",
     "text": [
      "['@text', '@analytics', '@textanalytics']\n"
     ]
    }
   ],
   "source": [
    "sentence9 = re.findall (r'@\\w+', 'user@text.com.my, user@analytics.gov.my, user@textanalytics.edu.my')\n",
    "print (sentence9) \n",
    " \n",
    "# Only the first word in the domain name is selected "
   ]
  },
  {
   "cell_type": "code",
   "execution_count": 11,
   "id": "15de10fe",
   "metadata": {},
   "outputs": [
    {
     "name": "stdout",
     "output_type": "stream",
     "text": [
      "['@text.com', '@analytics.gov', '@textanalytics.edu']\n"
     ]
    }
   ],
   "source": [
    "sentence10 = re.findall (r'@\\w+.\\w+','user@text.com.my, user@analytics.gov.my, user@textanalytics.edu.my')\n",
    "print (sentence10)"
   ]
  },
  {
   "cell_type": "code",
   "execution_count": 12,
   "id": "a8b6330e",
   "metadata": {},
   "outputs": [
    {
     "name": "stdout",
     "output_type": "stream",
     "text": [
      "['@text.com.my', '@analytics.gov.my', '@textanalytics.edu.my']\n"
     ]
    }
   ],
   "source": [
    "sentence11 = re.findall (r'@\\w+.\\w+.\\w+', 'user@text.com.my, user@analytics.gov.my, user@textanalytics.edu.my')\n",
    "print (sentence11) \n",
    " \n",
    "# The full domain name is selected "
   ]
  },
  {
   "cell_type": "code",
   "execution_count": 15,
   "id": "cb305d97",
   "metadata": {},
   "outputs": [
    {
     "name": "stdout",
     "output_type": "stream",
     "text": [
      "['com.my', 'gov.my', 'edu.my']\n"
     ]
    }
   ],
   "source": [
    "#Solution \n",
    "\n",
    "sentence12 = re.findall (r'@\\w+.(\\w+.\\w+)', 'user@text.com.my, user@analytics.gov.my, user@textanalytics.edu.my')\n",
    "print (sentence12)"
   ]
  },
  {
   "cell_type": "code",
   "execution_count": 17,
   "id": "2bebab9a",
   "metadata": {},
   "outputs": [
    {
     "name": "stdout",
     "output_type": "stream",
     "text": [
      "['15-05-20', '20-08-20']\n"
     ]
    }
   ],
   "source": [
    " \n",
    "sentence13 = re.findall (r'\\d{2}-\\d{2}-\\d{2}', 'Ahmad BIT(IS) 15-05-2001, Johnny BCS(SE) 20-08-2000')\n",
    "print (sentence13) \n"
   ]
  },
  {
   "cell_type": "code",
   "execution_count": 18,
   "id": "8838dd14",
   "metadata": {},
   "outputs": [
    {
     "name": "stdout",
     "output_type": "stream",
     "text": [
      "['15-05-2001', '20-08-2000']\n"
     ]
    }
   ],
   "source": [
    "sentence14 = re.findall (r'\\d{2}-\\d{2}-\\d{4}', 'Ahmad BIT(IS) 15-05-2001, Johnny BCS(SE) 20-08-2000')\n",
    "print (sentence14)"
   ]
  },
  {
   "cell_type": "code",
   "execution_count": 19,
   "id": "f7db62ed",
   "metadata": {},
   "outputs": [
    {
     "name": "stdout",
     "output_type": "stream",
     "text": [
      "['2001', '2000']\n"
     ]
    }
   ],
   "source": [
    "sentence15 = re.findall (r'\\d{2}-\\d{2}-(\\d{4})', 'Ahmad BIT(IS) 15-05-2001, Johnny BCS(SE) 20-08-2000')\n",
    "print (sentence15) \n",
    " \n",
    "# Only the year will be displayed "
   ]
  },
  {
   "cell_type": "code",
   "execution_count": 21,
   "id": "f008f100",
   "metadata": {},
   "outputs": [
    {
     "name": "stdout",
     "output_type": "stream",
     "text": [
      "['ave', 'eight', 'ory', 'ooks', 'often', 'ead', 'em', 'in', 'afternoon']\n"
     ]
    }
   ],
   "source": [
    "#Selecting words start with vowels in a string\n",
    "\n",
    "sentence16 = re.findall (r'[aeiouAEIOU]\\w+', 'I have eight story books. I often read them in afternoon')\n",
    "print (sentence16)\n",
    "\n",
    "# A sequence that starts with a vowel followed by one or more characters are selected "
   ]
  },
  {
   "cell_type": "code",
   "execution_count": 22,
   "id": "01d00c0e",
   "metadata": {},
   "outputs": [
    {
     "name": "stdout",
     "output_type": "stream",
     "text": [
      "[' have', ' eight', ' story', ' books', ' often', ' read', ' them', ' in', ' afternoon']\n"
     ]
    }
   ],
   "source": [
    "sentence17 = re.findall (r'\\b[aeiouAEIOU\\s]\\w+', 'I have eight story books. I often read them in afternoon')\n",
    "print (sentence17)"
   ]
  },
  {
   "cell_type": "code",
   "execution_count": 23,
   "id": "a1f6c286",
   "metadata": {},
   "outputs": [
    {
     "name": "stdout",
     "output_type": "stream",
     "text": [
      "['have', 'story', 'books', 'read', 'them']\n"
     ]
    }
   ],
   "source": [
    "sentence18 = re.findall (r'\\b[^aeiouAEIOU\\s]\\w+', 'I have eight story books. I often read them in afternoon')\n",
    "print (sentence18)\n",
    "\n",
    "# Only words that start with non-vowels are selected"
   ]
  },
  {
   "cell_type": "code",
   "execution_count": 24,
   "id": "b06a9242",
   "metadata": {},
   "outputs": [
    {
     "name": "stdout",
     "output_type": "stream",
     "text": [
      "['I have many story books', ' colouring books', ' I often read them in the afternoon.']\n"
     ]
    }
   ],
   "source": [
    "#Splitting a string with multiple delimiters \n",
    "\n",
    "sentence19 = re.split (r'[;,]', 'I have many story books, colouring books; I often read them in the afternoon.')\n",
    "print (sentence19) \n",
    " \n",
    "# split the words based on the delimiters semi colon and comma \n"
   ]
  },
  {
   "cell_type": "code",
   "execution_count": 25,
   "id": "563f8427",
   "metadata": {},
   "outputs": [
    {
     "name": "stdout",
     "output_type": "stream",
     "text": [
      "['I', 'have', 'many', 'story', 'books', '', 'colouring', 'books', '', 'I', 'often', 'read', 'them', 'in', 'the', 'afternoon.']\n"
     ]
    }
   ],
   "source": [
    "sentence20 = re.split (r'[;,\\s]', 'I have many story books, colouring books; I often read them in the afternoon.')\n",
    "print (sentence20)\n",
    "\n",
    "# split the words based on the delimiters semi colon, comma and space "
   ]
  },
  {
   "cell_type": "code",
   "execution_count": 27,
   "id": "89db2b76",
   "metadata": {},
   "outputs": [
    {
     "name": "stdout",
     "output_type": "stream",
     "text": [
      "I have many story books. I have many colouring books. I often read them in the afternoon.\n"
     ]
    }
   ],
   "source": [
    "#Substituting delimiters \n",
    "\n",
    "sentence21 = re.sub (r'[;,]', '.', 'I have many story books, I have many colouring books; I often read them in the afternoon.')\n",
    "print (sentence21)\n",
    "\n",
    "# Substitute the delimiters semi colon and comma with fullstop"
   ]
  },
  {
   "cell_type": "code",
   "execution_count": null,
   "id": "a5e364b9",
   "metadata": {},
   "outputs": [],
   "source": []
  }
 ],
 "metadata": {
  "kernelspec": {
   "display_name": "Python 3 (ipykernel)",
   "language": "python",
   "name": "python3"
  },
  "language_info": {
   "codemirror_mode": {
    "name": "ipython",
    "version": 3
   },
   "file_extension": ".py",
   "mimetype": "text/x-python",
   "name": "python",
   "nbconvert_exporter": "python",
   "pygments_lexer": "ipython3",
   "version": "3.11.5"
  }
 },
 "nbformat": 4,
 "nbformat_minor": 5
}
